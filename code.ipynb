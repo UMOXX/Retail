{
 "cells": [
  {
   "cell_type": "markdown",
   "metadata": {},
   "source": [
    "# Task 1 数据获取与探索分析"
   ]
  },
  {
   "cell_type": "code",
   "execution_count": 29,
   "metadata": {
    "ExecuteTime": {
     "end_time": "2020-03-22T15:11:37.104509Z",
     "start_time": "2020-03-22T15:11:37.054641Z"
    }
   },
   "outputs": [],
   "source": [
    "# 读取订单数据，并进行探索\n",
    "# coding: unicode_escope\n",
    "import pandas as pd\n",
    "detail=pd.read_csv('C:\\\\Users\\\\88\\\\Desktop\\\\meal_order_detail.csv')\n",
    "info=pd.read_csv('C:\\\\Users\\\\88\\\\Desktop\\\\meal_order_info.csv',encoding='gbk')"
   ]
  },
  {
   "cell_type": "code",
   "execution_count": 30,
   "metadata": {
    "ExecuteTime": {
     "end_time": "2020-03-22T15:11:37.761497Z",
     "start_time": "2020-03-22T15:11:37.755491Z"
    }
   },
   "outputs": [],
   "source": [
    "# 去除数据中的 \\t\\r\\n\n",
    "detail['dishes_name']=detail['dishes_name'].map(str.strip)"
   ]
  },
  {
   "cell_type": "code",
   "execution_count": 31,
   "metadata": {
    "ExecuteTime": {
     "end_time": "2020-03-22T15:11:38.448008Z",
     "start_time": "2020-03-22T15:11:38.363655Z"
    }
   },
   "outputs": [
    {
     "data": {
      "image/png": "[encoded data removed]",
      "text/plain": [
       "<Figure size 432x288 with 1 Axes>"
      ]
     },
     "metadata": {
      "needs_background": "light"
     },
     "output_type": "display_data"
    }
   ],
   "source": [
    "# 绘制热销菜品Top10\n",
    "import matplotlib.pyplot as plt\n",
    "import matplotlib as mpl\n",
    "mpl.rcParams['font.sans-serif']=['SimHei'] #指定默认字体 SimHei为黑体\n",
    "mpl.rcParams['axes.unicode_minus']=False #用来正常显示负号\n",
    "\n",
    "name=['白饭/大碗','凉拌菠菜','谷稻小庄','麻辣小龙虾','辣炒鱿鱼','芝士烩波士顿龙虾','五色糯米饭(七色)','白饭/小碗','香酥两吃大虾','焖猪手']\n",
    "data=[323,269,239,216,189,188,187,186,178,173]\n",
    "name.reverse()\n",
    "data.reverse()\n",
    "#绘图。\n",
    "fig, ax = plt.subplots()\n",
    "b = ax.barh(range(len(name)), data, color='#6699CC')\n",
    "\n",
    "#设置Y轴纵坐标上的刻度线标签。\n",
    "ax.set_yticks(range(len(name)))\n",
    "ax.set_yticklabels(name)\n",
    "#不要X横坐标上的label标签。\n",
    "plt.xticks(())\n",
    "plt.show()"
   ]
  },
  {
   "cell_type": "markdown",
   "metadata": {},
   "source": [
    "# Task2 数据预处理"
   ]
  },
  {
   "cell_type": "code",
   "execution_count": 32,
   "metadata": {
    "ExecuteTime": {
     "end_time": "2020-03-22T15:11:39.577573Z",
     "start_time": "2020-03-22T15:11:39.572584Z"
    }
   },
   "outputs": [
    {
     "data": {
      "text/plain": [
       "1    933\n",
       "0      9\n",
       "2      3\n",
       "Name: order_status, dtype: int64"
      ]
     },
     "execution_count": 32,
     "metadata": {},
     "output_type": "execute_result"
    }
   ],
   "source": [
    "# order_status中0，1，2的数据占比\n",
    "info['order_status'].value_counts()"
   ]
  },
  {
   "cell_type": "code",
   "execution_count": 33,
   "metadata": {
    "ExecuteTime": {
     "end_time": "2020-03-22T15:11:40.022382Z",
     "start_time": "2020-03-22T15:11:40.017395Z"
    }
   },
   "outputs": [],
   "source": [
    "# 删除无效数据\n",
    "Info=info[~info['order_status'].isin([0,2])]"
   ]
  },
  {
   "cell_type": "code",
   "execution_count": 34,
   "metadata": {
    "ExecuteTime": {
     "end_time": "2020-03-22T15:11:40.415425Z",
     "start_time": "2020-03-22T15:11:40.407445Z"
    }
   },
   "outputs": [],
   "source": [
    "# 删除订单详情表里有，但在订单表中没有出现的订单\n",
    "df1=pd.DataFrame(Info,columns=[\"info_id\"])\n",
    "df2=pd.DataFrame(detail,columns=[\"order_id\",\"dishes_name\",\"emp_id\"])\n",
    "data=df2[df2['order_id'].isin(df1['info_id'])]"
   ]
  },
  {
   "cell_type": "code",
   "execution_count": 35,
   "metadata": {
    "ExecuteTime": {
     "end_time": "2020-03-22T15:11:40.722610Z",
     "start_time": "2020-03-22T15:11:40.715657Z"
    }
   },
   "outputs": [
    {
     "name": "stderr",
     "output_type": "stream",
     "text": [
      "D:\\Anaconda\\lib\\site-packages\\pandas\\core\\computation\\expressions.py:180: UserWarning: evaluating in Python space because the '+' operator is not supported by numexpr for the bool dtype, use '|' instead\n",
      "  .format(op=op_str, alt_op=unsupported[op_str]))\n"
     ]
    }
   ],
   "source": [
    "# 删除订单详情表里有，但在订单表中没有出现的订单\n",
    "drop1=data['dishes_name']=='白饭/小碗'\n",
    "drop2=data['dishes_name']=='白饭/大碗'\n",
    "drop=drop1+drop2\n",
    "Data=data.drop(data.index[drop])"
   ]
  },
  {
   "cell_type": "markdown",
   "metadata": {},
   "source": [
    "# Task3 构建模型准备"
   ]
  },
  {
   "cell_type": "code",
   "execution_count": 36,
   "metadata": {
    "ExecuteTime": {
     "end_time": "2020-03-22T15:11:41.557417Z",
     "start_time": "2020-03-22T15:11:41.548403Z"
    }
   },
   "outputs": [],
   "source": [
    "# 只保留点了3个菜及以上的客户数据\n",
    "a=Data.groupby(by=['order_id'])['order_id'].count()\n",
    "b=a.loc[a<3]\n",
    "'''\n",
    "将点餐数少于3的订单编号结果保存到lessthan3.csv\n",
    "order_id\n",
    "199     2\n",
    "271     2\n",
    "344     2\n",
    "480     2\n",
    "493     2\n",
    "703     2\n",
    "1035    2\n",
    "1054    2\n",
    "1064    1\n",
    "1161    2\n",
    "Name: order_id, dtype: int64\n",
    "'''\n",
    "less=pd.read_csv('C:\\\\Users\\\\88\\\\Desktop\\\\lessthan3.csv')\n",
    "D=Data[~Data['order_id'].isin(less['order_id'])]"
   ]
  },
  {
   "cell_type": "code",
   "execution_count": 42,
   "metadata": {
    "ExecuteTime": {
     "end_time": "2020-03-22T15:13:51.033607Z",
     "start_time": "2020-03-22T15:13:40.329642Z"
    }
   },
   "outputs": [],
   "source": [
    "# 将数据按照8:2划分为训练集和测试集\n",
    "from pandas import DataFrame,Series\n",
    "import numpy as np \n",
    "\n",
    "DD=pd.DataFrame(D,columns=['dishes_name','emp_id'])\n",
    "dishes_name=DD['dishes_name']\n",
    "emp_id = DD['emp_id']\n",
    "\n",
    "test_emp_id = []\n",
    "train_emp_id = []\n",
    "np.random.seed(6) \n",
    "for i in emp_id:\n",
    "    if np.random.randint(0,10)<3:\n",
    "        test_emp_id.append(i)\n",
    "    else:\n",
    "        train_emp_id.append(i)\n",
    "\n",
    "test_data = DD\n",
    "train_data = DD\n",
    "for i in test_emp_id:\n",
    "    train_data = train_data.drop(index=(train_data.loc[(train_data['emp_id']==i)].index))\n",
    "for i in train_emp_id:\n",
    "    test_data = test_data.drop(index=(test_data.loc[(test_data['emp_id']==i)].index))"
   ]
  },
  {
   "cell_type": "code",
   "execution_count": 52,
   "metadata": {
    "ExecuteTime": {
     "end_time": "2020-03-22T15:21:19.413470Z",
     "start_time": "2020-03-22T15:20:58.399309Z"
    }
   },
   "outputs": [
    {
     "ename": "KeyError",
     "evalue": "4",
     "output_type": "error",
     "traceback": [
      "\u001b[1;31m---------------------------------------------------------------------------\u001b[0m",
      "\u001b[1;31mKeyError\u001b[0m                                  Traceback (most recent call last)",
      "\u001b[1;32m<ipython-input-52-58447eb770ad>\u001b[0m in \u001b[0;36m<module>\u001b[1;34m()\u001b[0m\n\u001b[0;32m      5\u001b[0m \u001b[1;32mfor\u001b[0m \u001b[0mi\u001b[0m \u001b[1;32min\u001b[0m \u001b[0mm\u001b[0m\u001b[1;33m:\u001b[0m\u001b[1;33m\u001b[0m\u001b[0m\n\u001b[0;32m      6\u001b[0m     \u001b[1;32mfor\u001b[0m \u001b[0mj\u001b[0m \u001b[1;32min\u001b[0m \u001b[0mn\u001b[0m\u001b[1;33m:\u001b[0m\u001b[1;33m\u001b[0m\u001b[0m\n\u001b[1;32m----> 7\u001b[1;33m         \u001b[1;32mif\u001b[0m \u001b[0mtrain_data\u001b[0m\u001b[1;33m[\u001b[0m\u001b[1;33m(\u001b[0m\u001b[0mtrain_data\u001b[0m\u001b[1;33m.\u001b[0m\u001b[0mloc\u001b[0m\u001b[1;33m[\u001b[0m\u001b[1;33m:\u001b[0m\u001b[1;33m,\u001b[0m\u001b[1;34m'dishes_name'\u001b[0m\u001b[1;33m]\u001b[0m\u001b[1;33m==\u001b[0m\u001b[0mdishes_name\u001b[0m\u001b[1;33m[\u001b[0m\u001b[0mi\u001b[0m\u001b[1;33m]\u001b[0m\u001b[1;33m)\u001b[0m \u001b[1;33m&\u001b[0m \u001b[1;33m(\u001b[0m\u001b[0mtrain_data\u001b[0m\u001b[1;33m.\u001b[0m\u001b[0mloc\u001b[0m\u001b[1;33m[\u001b[0m\u001b[1;33m:\u001b[0m\u001b[1;33m,\u001b[0m\u001b[1;34m'emp_id'\u001b[0m\u001b[1;33m]\u001b[0m\u001b[1;33m==\u001b[0m\u001b[0mtrain_emp_id\u001b[0m\u001b[1;33m[\u001b[0m\u001b[0mj\u001b[0m\u001b[1;33m]\u001b[0m\u001b[1;33m)\u001b[0m\u001b[1;33m]\u001b[0m\u001b[1;33m.\u001b[0m\u001b[0mempty\u001b[0m\u001b[1;33m==\u001b[0m\u001b[1;32mFalse\u001b[0m\u001b[1;33m:\u001b[0m\u001b[1;33m\u001b[0m\u001b[0m\n\u001b[0m\u001b[0;32m      8\u001b[0m             \u001b[0mtrain_matrix\u001b[0m\u001b[1;33m[\u001b[0m\u001b[0mi\u001b[0m\u001b[1;33m,\u001b[0m\u001b[0mj\u001b[0m\u001b[1;33m]\u001b[0m\u001b[1;33m=\u001b[0m\u001b[1;36m1\u001b[0m\u001b[1;33m\u001b[0m\u001b[0m\n\u001b[0;32m      9\u001b[0m \u001b[0mprint\u001b[0m\u001b[1;33m(\u001b[0m\u001b[0mtrain_matrix\u001b[0m\u001b[1;33m)\u001b[0m\u001b[1;33m\u001b[0m\u001b[0m\n",
      "\u001b[1;32mD:\\Anaconda\\lib\\site-packages\\pandas\\core\\series.py\u001b[0m in \u001b[0;36m__getitem__\u001b[1;34m(self, key)\u001b[0m\n\u001b[0;32m    765\u001b[0m         \u001b[0mkey\u001b[0m \u001b[1;33m=\u001b[0m \u001b[0mcom\u001b[0m\u001b[1;33m.\u001b[0m\u001b[0m_apply_if_callable\u001b[0m\u001b[1;33m(\u001b[0m\u001b[0mkey\u001b[0m\u001b[1;33m,\u001b[0m \u001b[0mself\u001b[0m\u001b[1;33m)\u001b[0m\u001b[1;33m\u001b[0m\u001b[0m\n\u001b[0;32m    766\u001b[0m         \u001b[1;32mtry\u001b[0m\u001b[1;33m:\u001b[0m\u001b[1;33m\u001b[0m\u001b[0m\n\u001b[1;32m--> 767\u001b[1;33m             \u001b[0mresult\u001b[0m \u001b[1;33m=\u001b[0m \u001b[0mself\u001b[0m\u001b[1;33m.\u001b[0m\u001b[0mindex\u001b[0m\u001b[1;33m.\u001b[0m\u001b[0mget_value\u001b[0m\u001b[1;33m(\u001b[0m\u001b[0mself\u001b[0m\u001b[1;33m,\u001b[0m \u001b[0mkey\u001b[0m\u001b[1;33m)\u001b[0m\u001b[1;33m\u001b[0m\u001b[0m\n\u001b[0m\u001b[0;32m    768\u001b[0m \u001b[1;33m\u001b[0m\u001b[0m\n\u001b[0;32m    769\u001b[0m             \u001b[1;32mif\u001b[0m \u001b[1;32mnot\u001b[0m \u001b[0mis_scalar\u001b[0m\u001b[1;33m(\u001b[0m\u001b[0mresult\u001b[0m\u001b[1;33m)\u001b[0m\u001b[1;33m:\u001b[0m\u001b[1;33m\u001b[0m\u001b[0m\n",
      "\u001b[1;32mD:\\Anaconda\\lib\\site-packages\\pandas\\core\\indexes\\base.py\u001b[0m in \u001b[0;36mget_value\u001b[1;34m(self, series, key)\u001b[0m\n\u001b[0;32m   3116\u001b[0m         \u001b[1;32mtry\u001b[0m\u001b[1;33m:\u001b[0m\u001b[1;33m\u001b[0m\u001b[0m\n\u001b[0;32m   3117\u001b[0m             return self._engine.get_value(s, k,\n\u001b[1;32m-> 3118\u001b[1;33m                                           tz=getattr(series.dtype, 'tz', None))\n\u001b[0m\u001b[0;32m   3119\u001b[0m         \u001b[1;32mexcept\u001b[0m \u001b[0mKeyError\u001b[0m \u001b[1;32mas\u001b[0m \u001b[0me1\u001b[0m\u001b[1;33m:\u001b[0m\u001b[1;33m\u001b[0m\u001b[0m\n\u001b[0;32m   3120\u001b[0m             \u001b[1;32mif\u001b[0m \u001b[0mlen\u001b[0m\u001b[1;33m(\u001b[0m\u001b[0mself\u001b[0m\u001b[1;33m)\u001b[0m \u001b[1;33m>\u001b[0m \u001b[1;36m0\u001b[0m \u001b[1;32mand\u001b[0m \u001b[0mself\u001b[0m\u001b[1;33m.\u001b[0m\u001b[0minferred_type\u001b[0m \u001b[1;32min\u001b[0m \u001b[1;33m[\u001b[0m\u001b[1;34m'integer'\u001b[0m\u001b[1;33m,\u001b[0m \u001b[1;34m'boolean'\u001b[0m\u001b[1;33m]\u001b[0m\u001b[1;33m:\u001b[0m\u001b[1;33m\u001b[0m\u001b[0m\n",
      "\u001b[1;32mpandas\\_libs\\index.pyx\u001b[0m in \u001b[0;36mpandas._libs.index.IndexEngine.get_value\u001b[1;34m()\u001b[0m\n",
      "\u001b[1;32mpandas\\_libs\\index.pyx\u001b[0m in \u001b[0;36mpandas._libs.index.IndexEngine.get_value\u001b[1;34m()\u001b[0m\n",
      "\u001b[1;32mpandas\\_libs\\index.pyx\u001b[0m in \u001b[0;36mpandas._libs.index.IndexEngine.get_loc\u001b[1;34m()\u001b[0m\n",
      "\u001b[1;32mpandas\\_libs\\hashtable_class_helper.pxi\u001b[0m in \u001b[0;36mpandas._libs.hashtable.Int64HashTable.get_item\u001b[1;34m()\u001b[0m\n",
      "\u001b[1;32mpandas\\_libs\\hashtable_class_helper.pxi\u001b[0m in \u001b[0;36mpandas._libs.hashtable.Int64HashTable.get_item\u001b[1;34m()\u001b[0m\n",
      "\u001b[1;31mKeyError\u001b[0m: 4"
     ]
    }
   ],
   "source": [
    "# 构建训练集数据客户-菜品二元矩阵\n",
    "m = range(len(dishes_name))\n",
    "n = range(len(train_emp_id))\n",
    "train_matrix = np.mat(np.zeros((len(dishes_name),len(train_emp_id)))) \n",
    "for i in m:\n",
    "    for j in n:\n",
    "        if train_data[(train_data.loc[:,'dishes_name']==dishes_name[i]) & (train_data.loc[:,'emp_id']==train_emp_id[j])].empty==False:\n",
    "            train_matrix[i,j]=1\n",
    "print(train_matrix)"
   ]
  },
  {
   "cell_type": "markdown",
   "metadata": {},
   "source": [
    "# Task4 模型构建"
   ]
  },
  {
   "cell_type": "code",
   "execution_count": 53,
   "metadata": {
    "ExecuteTime": {
     "end_time": "2020-03-22T15:28:04.030181Z",
     "start_time": "2020-03-22T15:22:31.491872Z"
    }
   },
   "outputs": [
    {
     "ename": "ZeroDivisionError",
     "evalue": "division by zero",
     "output_type": "error",
     "traceback": [
      "\u001b[1;31m---------------------------------------------------------------------------\u001b[0m",
      "\u001b[1;31mZeroDivisionError\u001b[0m                         Traceback (most recent call last)",
      "\u001b[1;32m<ipython-input-53-78b57ee45a8f>\u001b[0m in \u001b[0;36m<module>\u001b[1;34m()\u001b[0m\n\u001b[0;32m      9\u001b[0m             \u001b[1;32mif\u001b[0m \u001b[0mtrain_matrix\u001b[0m\u001b[1;33m[\u001b[0m\u001b[0mi\u001b[0m\u001b[1;33m,\u001b[0m\u001b[0mj\u001b[0m\u001b[1;33m]\u001b[0m\u001b[1;33m==\u001b[0m\u001b[1;36m1\u001b[0m \u001b[1;32mor\u001b[0m \u001b[0mtrain_matrix\u001b[0m\u001b[1;33m[\u001b[0m\u001b[0mh\u001b[0m\u001b[1;33m,\u001b[0m\u001b[0mj\u001b[0m\u001b[1;33m]\u001b[0m\u001b[1;33m==\u001b[0m\u001b[1;36m1\u001b[0m\u001b[1;33m:\u001b[0m\u001b[1;33m\u001b[0m\u001b[0m\n\u001b[0;32m     10\u001b[0m                 \u001b[0munion\u001b[0m\u001b[1;33m=\u001b[0m\u001b[0munion\u001b[0m\u001b[1;33m+\u001b[0m\u001b[1;36m1\u001b[0m\u001b[1;33m\u001b[0m\u001b[0m\n\u001b[1;32m---> 11\u001b[1;33m         \u001b[0msimilar_matrix\u001b[0m\u001b[1;33m[\u001b[0m\u001b[0mi\u001b[0m\u001b[1;33m,\u001b[0m\u001b[0mh\u001b[0m\u001b[1;33m]\u001b[0m\u001b[1;33m=\u001b[0m\u001b[0mcross\u001b[0m\u001b[1;33m/\u001b[0m\u001b[0munion\u001b[0m\u001b[1;33m\u001b[0m\u001b[0m\n\u001b[0m\u001b[0;32m     12\u001b[0m \u001b[0mprint\u001b[0m\u001b[1;33m(\u001b[0m\u001b[0msimilar_matrix\u001b[0m\u001b[1;33m)\u001b[0m\u001b[1;33m\u001b[0m\u001b[0m\n",
      "\u001b[1;31mZeroDivisionError\u001b[0m: division by zero"
     ]
    }
   ],
   "source": [
    "# 计算菜品与菜品之间的相似度,Jaccard相似度\n",
    "similar_matrix = np.mat(np.zeros((len(dishes_name),len(dishes_name)))) \n",
    "for i in m:\n",
    "    for h in m:\n",
    "        cross = 0;union = 0\n",
    "        for j in n:\n",
    "            if train_matrix[i,j]==1 and train_matrix[h,j]==1:\n",
    "                cross=cross+1\n",
    "            if train_matrix[i,j]==1 or train_matrix[h,j]==1:\n",
    "                union=union+1\n",
    "        similar_matrix[i,h]=cross/union\n",
    "print(similar_matrix)"
   ]
  },
  {
   "cell_type": "code",
   "execution_count": null,
   "metadata": {},
   "outputs": [],
   "source": [
    "# 根据菜品的相似度和客户的历史行为给客户生成推荐表\n",
    "test_emp_interest_matrix = np.mat(np.zeros((len(test_emp_id),len(dishes_name)))) \n",
    "for j in range(len(test_emp_id)):\n",
    "    test_emp_dishdata = test_data[(test_data.loc[:, 'emp_id'] == test_emp_id[j])] \n",
    "    test_emp_dishdata = list(test_emp_dishdata['dishes_name'])\n",
    "    for i in m:\n",
    "        interest_score = 0\n",
    "        for h in test_emp_dishdata:\n",
    "            index = dishes_name.index(h)\n",
    "            interest_score = interest_score + 1*similar_matrix[i,index]\n",
    "        test_emp_interest_matrix[j,i] = interest_score\n",
    "print(test_emp_interest_matrix)"
   ]
  },
  {
   "cell_type": "markdown",
   "metadata": {},
   "source": [
    "# Task5 模型评估"
   ]
  },
  {
   "cell_type": "code",
   "execution_count": null,
   "metadata": {},
   "outputs": [],
   "source": [
    "# 构建测试集客户IP-菜品字典\n",
    "test_emp_data = {}\n",
    "for j in range(len(test_emp_id)):\n",
    "    test_emp_dishdata = test_data[(test_data.loc[:, 'emp_id'] == test_emp_id[j])] \n",
    "    test_emp_dishdata = list(test_emp_dishdata['dishes_name'])\n",
    "    test_emp_data[test_emp_id[j]] = test_emp_dishdata\n",
    "print(test_emp_data)"
   ]
  },
  {
   "cell_type": "code",
   "execution_count": null,
   "metadata": {},
   "outputs": [],
   "source": [
    "# 构建评价指标，并分析推荐效果\n",
    "test_emp_accuracy = {} \n",
    "for j in range(len(test_emp_id)):\n",
    "    interest_len = len(test_emp_data[test_emp_id[j]])\n",
    "    true_len = 0\n",
    "    a = test_emp_interest_matrix[j,:].tolist()[0] \n",
    "    b = sorted(a,reverse=True)\n",
    "    for i in b[0:interest_len]: \n",
    "        if dish_name[a.index(i)] in test_emp_data[test_emp_id[j]]:\n",
    "            true_len = true_len + 1 \n",
    "    test_emp_accuracy[test_emp_id[j]] = true_len/interest_len\n",
    "print('字典',test_emp_accuracy)\n",
    "all_accuracy = 0 \n",
    "for j in range(len(test_emp_id)):\n",
    "    all_accuracy = all_accuracy + test_emp_accuracy[test_emp_id[j]]\n",
    "all_accuracy = all_accuracy/len(test_emp_id)\n",
    "print(,all_accuracy)"
   ]
  }
 ],
 "metadata": {
  "kernelspec": {
   "display_name": "Python 3",
   "language": "python",
   "name": "python3"
  },
  "language_info": {
   "codemirror_mode": {
    "name": "ipython",
    "version": 3
   },
   "file_extension": ".py",
   "mimetype": "text/x-python",
   "name": "python",
   "nbconvert_exporter": "python",
   "pygments_lexer": "ipython3",
   "version": "3.7.0"
  },
  "toc": {
   "base_numbering": 1,
   "nav_menu": {},
   "number_sections": true,
   "sideBar": true,
   "skip_h1_title": false,
   "title_cell": "Table of Contents",
   "title_sidebar": "Contents",
   "toc_cell": false,
   "toc_position": {},
   "toc_section_display": true,
   "toc_window_display": false
  }
 },
 "nbformat": 4,
 "nbformat_minor": 2
}
